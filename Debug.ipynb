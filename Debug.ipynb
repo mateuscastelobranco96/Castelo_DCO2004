{
 "cells": [
  {
   "cell_type": "code",
   "execution_count": 5,
   "metadata": {},
   "outputs": [
    {
     "name": "stdout",
     "output_type": "stream",
     "text": [
      "O valor máximo de s é ... 1\n",
      "O valor máximo de z é ... 2\n"
     ]
    }
   ],
   "source": [
    "clear all;\n",
    "t = 1:10;\n",
    "f = 10;\n",
    "s = cos(2*pi*f*t);\n",
    "z = s + cos(2*pi*0.5*f*t);\n",
    "chDisplays = ['O valor máximo de s é ... ' num2str(max(s))];\n",
    "disp(chDisplays);\n",
    "chDisplayz = ['O valor máximo de z é ... ' num2str(max(z))];\n",
    "disp(chDisplayz);"
   ]
  }
 ],
 "metadata": {
  "kernelspec": {
   "display_name": "Matlab",
   "language": "matlab",
   "name": "matlab"
  },
  "language_info": {
   "codemirror_mode": "octave",
   "file_extension": ".m",
   "help_links": [
    {
     "text": "MetaKernel Magics",
     "url": "https://github.com/calysto/metakernel/blob/master/metakernel/magics/README.md"
    }
   ],
   "mimetype": "text/x-octave",
   "name": "matlab",
   "version": "0.16.1"
  }
 },
 "nbformat": 4,
 "nbformat_minor": 2
}
